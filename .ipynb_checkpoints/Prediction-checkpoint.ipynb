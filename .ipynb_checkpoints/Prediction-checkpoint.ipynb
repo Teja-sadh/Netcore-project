{
 "cells": [
  {
   "cell_type": "code",
   "execution_count": 2,
   "metadata": {},
   "outputs": [
    {
     "name": "stdout",
     "output_type": "stream",
     "text": [
      "[[  58  105    6 1616   72   29   16    0    0    0    0    0    0    0\n",
      "     0    0    0    0    0    0    0    0    0    0]]\n",
      "[[  58  105    6 1616   72   29   16    0    0    0    0    0    0    0\n",
      "     0    0    0    0    0    0    0    0    0    0]]\n",
      "Predicted: Active Again\n",
      "Predicted: cards\n"
     ]
    }
   ],
   "source": [
    "import warnings\n",
    "warnings.filterwarnings('ignore')\n",
    "from tensorflow.keras.models import load_model\n",
    "from keras.preprocessing.sequence import pad_sequences\n",
    "from tensorflow.keras.preprocessing.text import Tokenizer\n",
    "import pickle\n",
    "import numpy as np\n",
    "\n",
    "cat_model = load_model('category_model.h5')\n",
    "with open('tokenizer_category.pickle', 'rb') as handle:\n",
    "    tokenizer_cat = pickle.load(handle)\n",
    "\n",
    "\n",
    "prod_model = load_model('product_model.h5')\n",
    "with open('tokenizer_product.pickle', 'rb') as handle:\n",
    "    tokenizer_prod = pickle.load(handle)\n",
    "    \n",
    "class_dict = {0:\"Active Again\",1:\"Easy to Bank\",2:\"Onboarding\",3:\"Regulatory & Mandatory\",4:\"Take More\"}\n",
    "prod_dict = {0:\"assets\",1:\"cards\",5:\"liabilities\",4:\"investments\",6:\"stocks\",3:\"digital banking\",7:\"yes remit\",2:\"corp mcc\"}\n",
    "\n",
    "sentence = np.array([\"Special off on lifestyle last Debit/Credit\"])\n",
    "sentence1 = tokenizer_cat.texts_to_sequences(sentence)\n",
    "sentence1 = pad_sequences(sentence1,padding='post',maxlen=24)\n",
    "sentence2 = tokenizer_prod.texts_to_sequences(sentence)\n",
    "sentence2 = pad_sequences(sentence2,padding='post',maxlen=24)\n",
    "\n",
    "# print(sentence1)\n",
    "# print(sentence2)\n",
    "predict_cat = cat_model.predict_classes(sentence1)\n",
    "print(\"Predicted:\",class_dict[predict_cat[0]])\n",
    "\n",
    "predict_prod = prod_model.predict_classes(sentence2)\n",
    "print(\"Predicted:\",prod_dict[predict_prod[0]])\n",
    "\n"
   ]
  },
  {
   "cell_type": "code",
   "execution_count": null,
   "metadata": {},
   "outputs": [],
   "source": []
  }
 ],
 "metadata": {
  "kernelspec": {
   "display_name": "Python 3",
   "language": "python",
   "name": "python3"
  },
  "language_info": {
   "codemirror_mode": {
    "name": "ipython",
    "version": 3
   },
   "file_extension": ".py",
   "mimetype": "text/x-python",
   "name": "python",
   "nbconvert_exporter": "python",
   "pygments_lexer": "ipython3",
   "version": "3.7.6"
  }
 },
 "nbformat": 4,
 "nbformat_minor": 4
}
